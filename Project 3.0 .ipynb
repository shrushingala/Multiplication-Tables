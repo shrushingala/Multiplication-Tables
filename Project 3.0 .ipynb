{
 "cells": [
  {
   "cell_type": "markdown",
   "id": "f4ebf51e",
   "metadata": {},
   "source": [
    "# Using while loops print a table till 12"
   ]
  },
  {
   "cell_type": "code",
   "execution_count": 1,
   "id": "c877411f",
   "metadata": {},
   "outputs": [
    {
     "name": "stdout",
     "output_type": "stream",
     "text": [
      "Enter your choice no:  \n",
      "9\n",
      "**********\n",
      "9 x 0 = 0\n",
      "9 x 1 = 9\n",
      "9 x 2 = 18\n",
      "9 x 3 = 27\n",
      "9 x 4 = 36\n",
      "9 x 5 = 45\n",
      "9 x 6 = 54\n",
      "9 x 7 = 63\n",
      "9 x 8 = 72\n",
      "9 x 9 = 81\n",
      "9 x 10 = 90\n",
      "9 x 11 = 99\n",
      "9 x 12 = 108\n"
     ]
    }
   ],
   "source": [
    "f = int(input(\"Enter your choice no:  \\n\"))\n",
    "print(\"*\" *10)\n",
    "i = 0\n",
    "while (i<=12):\n",
    "    print(f , \"x\" , i, \"=\", f*i)\n",
    "    i = i+1"
   ]
  },
  {
   "cell_type": "code",
   "execution_count": null,
   "id": "15c93913",
   "metadata": {},
   "outputs": [],
   "source": []
  }
 ],
 "metadata": {
  "kernelspec": {
   "display_name": "Python 3 (ipykernel)",
   "language": "python",
   "name": "python3"
  },
  "language_info": {
   "codemirror_mode": {
    "name": "ipython",
    "version": 3
   },
   "file_extension": ".py",
   "mimetype": "text/x-python",
   "name": "python",
   "nbconvert_exporter": "python",
   "pygments_lexer": "ipython3",
   "version": "3.9.7"
  }
 },
 "nbformat": 4,
 "nbformat_minor": 5
}
